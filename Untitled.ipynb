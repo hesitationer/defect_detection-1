{
 "cells": [
  {
   "cell_type": "code",
   "execution_count": 21,
   "metadata": {
    "collapsed": true
   },
   "outputs": [],
   "source": [
    "from PIL import Image as im"
   ]
  },
  {
   "cell_type": "code",
   "execution_count": 22,
   "metadata": {
    "collapsed": true
   },
   "outputs": [],
   "source": [
    "def crop(image_obj, coords, saved_location):\n",
    "    \"\"\"\n",
    "    @param image_path: The path to the image to edit\n",
    "    @param coords: A tuple of x/y coordinates (x1, y1, x2, y2)\n",
    "    @param saved_location: Path to save the cropped image\n",
    "    \"\"\"\n",
    "    cropped_image = image_obj.crop(coords)\n",
    "    #cropped_image.save(saved_location)\n",
    "    print(coords)\n",
    "    #cropped_image.show()"
   ]
  },
  {
   "cell_type": "code",
   "execution_count": 23,
   "metadata": {
    "collapsed": true
   },
   "outputs": [],
   "source": [
    "def create_cropped_data(image_path,saved_location,w_cuts,h_cuts):\n",
    "    image_obj = im.open(image_path)\n",
    "    w , h = image_obj.size\n",
    "    print(w,h)\n",
    "    cropped_w = w / (w_cuts+1)\n",
    "    cropped_h = h / (h_cuts+1)\n",
    "    i=0\n",
    "    for x in range(w_cuts+1):\n",
    "        for y in range(h_cuts+1):\n",
    "            i += 1\n",
    "            x_cord = x*cropped_w\n",
    "            y_cord = y*cropped_h\n",
    "            coords = (x_cord,y_cord,x_cord+cropped_w,y_cord+cropped_h)\n",
    "            crop(image_obj,coords,saved_location+str(i)+'.jpg')\n"
   ]
  },
  {
   "cell_type": "code",
   "execution_count": 24,
   "metadata": {},
   "outputs": [
    {
     "name": "stdout",
     "output_type": "stream",
     "text": [
      "4160 3120\n",
      "(0.0, 0.0, 520.0, 390.0)\n",
      "(0.0, 390.0, 520.0, 780.0)\n",
      "(0.0, 780.0, 520.0, 1170.0)\n",
      "(0.0, 1170.0, 520.0, 1560.0)\n",
      "(0.0, 1560.0, 520.0, 1950.0)\n",
      "(0.0, 1950.0, 520.0, 2340.0)\n",
      "(0.0, 2340.0, 520.0, 2730.0)\n",
      "(0.0, 2730.0, 520.0, 3120.0)\n",
      "(520.0, 0.0, 1040.0, 390.0)\n",
      "(520.0, 390.0, 1040.0, 780.0)\n",
      "(520.0, 780.0, 1040.0, 1170.0)\n",
      "(520.0, 1170.0, 1040.0, 1560.0)\n",
      "(520.0, 1560.0, 1040.0, 1950.0)\n",
      "(520.0, 1950.0, 1040.0, 2340.0)\n",
      "(520.0, 2340.0, 1040.0, 2730.0)\n",
      "(520.0, 2730.0, 1040.0, 3120.0)\n",
      "(1040.0, 0.0, 1560.0, 390.0)\n",
      "(1040.0, 390.0, 1560.0, 780.0)\n",
      "(1040.0, 780.0, 1560.0, 1170.0)\n",
      "(1040.0, 1170.0, 1560.0, 1560.0)\n",
      "(1040.0, 1560.0, 1560.0, 1950.0)\n",
      "(1040.0, 1950.0, 1560.0, 2340.0)\n",
      "(1040.0, 2340.0, 1560.0, 2730.0)\n",
      "(1040.0, 2730.0, 1560.0, 3120.0)\n",
      "(1560.0, 0.0, 2080.0, 390.0)\n",
      "(1560.0, 390.0, 2080.0, 780.0)\n",
      "(1560.0, 780.0, 2080.0, 1170.0)\n",
      "(1560.0, 1170.0, 2080.0, 1560.0)\n",
      "(1560.0, 1560.0, 2080.0, 1950.0)\n",
      "(1560.0, 1950.0, 2080.0, 2340.0)\n",
      "(1560.0, 2340.0, 2080.0, 2730.0)\n",
      "(1560.0, 2730.0, 2080.0, 3120.0)\n",
      "(2080.0, 0.0, 2600.0, 390.0)\n",
      "(2080.0, 390.0, 2600.0, 780.0)\n",
      "(2080.0, 780.0, 2600.0, 1170.0)\n",
      "(2080.0, 1170.0, 2600.0, 1560.0)\n",
      "(2080.0, 1560.0, 2600.0, 1950.0)\n",
      "(2080.0, 1950.0, 2600.0, 2340.0)\n",
      "(2080.0, 2340.0, 2600.0, 2730.0)\n",
      "(2080.0, 2730.0, 2600.0, 3120.0)\n",
      "(2600.0, 0.0, 3120.0, 390.0)\n",
      "(2600.0, 390.0, 3120.0, 780.0)\n",
      "(2600.0, 780.0, 3120.0, 1170.0)\n",
      "(2600.0, 1170.0, 3120.0, 1560.0)\n",
      "(2600.0, 1560.0, 3120.0, 1950.0)\n",
      "(2600.0, 1950.0, 3120.0, 2340.0)\n",
      "(2600.0, 2340.0, 3120.0, 2730.0)\n",
      "(2600.0, 2730.0, 3120.0, 3120.0)\n",
      "(3120.0, 0.0, 3640.0, 390.0)\n",
      "(3120.0, 390.0, 3640.0, 780.0)\n",
      "(3120.0, 780.0, 3640.0, 1170.0)\n",
      "(3120.0, 1170.0, 3640.0, 1560.0)\n",
      "(3120.0, 1560.0, 3640.0, 1950.0)\n",
      "(3120.0, 1950.0, 3640.0, 2340.0)\n",
      "(3120.0, 2340.0, 3640.0, 2730.0)\n",
      "(3120.0, 2730.0, 3640.0, 3120.0)\n",
      "(3640.0, 0.0, 4160.0, 390.0)\n",
      "(3640.0, 390.0, 4160.0, 780.0)\n",
      "(3640.0, 780.0, 4160.0, 1170.0)\n",
      "(3640.0, 1170.0, 4160.0, 1560.0)\n",
      "(3640.0, 1560.0, 4160.0, 1950.0)\n",
      "(3640.0, 1950.0, 4160.0, 2340.0)\n",
      "(3640.0, 2340.0, 4160.0, 2730.0)\n",
      "(3640.0, 2730.0, 4160.0, 3120.0)\n"
     ]
    }
   ],
   "source": [
    "create_cropped_data('./All_61326/test_61326/61326 (Front Side)-OK- (87).jpg','./All_61326/train_61326/data/',7,7)"
   ]
  },
  {
   "cell_type": "code",
   "execution_count": 17,
   "metadata": {},
   "outputs": [],
   "source": [
    "from os import walk\n",
    "import csv\n",
    "import shutil\n",
    "import random\n",
    "import string\n",
    "\n",
    "def getClass(dirn):\n",
    "    if 'inning' in dirn:\n",
    "        return 'TH'\n",
    "    if 'cratch' in dirn:\n",
    "        return 'SM'\n",
    "    if 'amage' in dirn:\n",
    "        return 'SD'\n",
    "    if 'rinkl' in dirn:\n",
    "        return 'WR'\n",
    "    if 'front' in dirn:\n",
    "        return 'OKF'\n",
    "    if 'back' in dirn:\n",
    "        return 'OKB'\n",
    "\n",
    "for (dirpath, dirnames, filenames) in walk('./All_61326/train_61326/'):\n",
    "    for direc in dirnames:\n",
    "        if '61326' in direc:\n",
    "            path = './All_61326/train_61326/'+direc\n",
    "            for (dirpath, dirnames, filenames) in walk(path):\n",
    "                klass = getClass(direc)\n",
    "                with open('./data_1.csv','a') as csvfile:\n",
    "                    writer = csv.writer(csvfile, delimiter=',')\n",
    "                    for file in filenames:\n",
    "                        if '61326' in file:\n",
    "                            randomString = ''.join([random.choice(string.ascii_letters + string.digits) for n in range(10)])\n",
    "                            shutil.copy(path+'/'+file,'./All_61326/train_61326/data/'+randomString+'.jpg')\n",
    "                            writer.writerow([randomString,klass])"
   ]
  },
  {
   "cell_type": "markdown",
   "metadata": {},
   "source": []
  },
  {
   "cell_type": "code",
   "execution_count": null,
   "metadata": {
    "collapsed": true
   },
   "outputs": [],
   "source": []
  }
 ],
 "metadata": {
  "kernelspec": {
   "display_name": "Python 3",
   "language": "python",
   "name": "python3"
  },
  "language_info": {
   "codemirror_mode": {
    "name": "ipython",
    "version": 3
   },
   "file_extension": ".py",
   "mimetype": "text/x-python",
   "name": "python",
   "nbconvert_exporter": "python",
   "pygments_lexer": "ipython3",
   "version": "3.6.1"
  }
 },
 "nbformat": 4,
 "nbformat_minor": 2
}
